{
 "cells": [
  {
   "cell_type": "markdown",
   "id": "4476cd28",
   "metadata": {},
   "source": [
    "## Continuous distance measures\n",
    "\n",
    "1. Euclidean distance $$d(x^{[a]}, x^{[b]}) = \\sqrt{\\sum_{j=1}^{m}   \\left(x_j^{[a]}-x_j^{[b]}\\right)^2    }$$\n",
    "\n",
    "\n",
    "2. Mahattan distance $$d(x^{[a]}, x^{[b]}) = \\sum_{j=1}^{m}  |x_j^{[a]}-x_j^{[b]}|$$\n",
    "\n",
    "Minkowski: $$d(x^{[a]}, x^{[b]}) = \\left[   \\sum_{j=1}^{m}  \\left(|x_j^{[a]}-x_j^{[b]}|\\right)^p    \\right]^{\\frac{1}{p}}$$\n",
    "\n",
    "- $p=1 \\rightarrow$ $\\texttt{Mathattan distance}$\n",
    "- $p=2 \\rightarrow$ $\\texttt{Euclidean distance}$\n",
    "\n",
    "\n",
    "3. Cosine similarity \n",
    "$$\\cos \\left(\\theta\\right)=\\frac{a . b}{||a|| . ||b||}$$\n",
    "\n",
    "\n",
    "## Discrete distance measures\n",
    "1. Hamming distance $$d(x^{[a]}, x^{[b]}) = \\sum_{j=1}^{m}  |x_j^{[a]}-x_j^{[b]}|, where: j \\in \\{0, 1\\}$$\n",
    "2. Jaccard/ Tanimoto similarity $$J(A, B)=\\frac{ |A\\cap{B}| }{ |A\\cup{B}| }=\\frac{  |A\\cap{B}|  }{|A| + |B| - |A\\cap{B}|}$$\n",
    "Dice: (Independent event) $$D(A, B)=\\frac{ 2|A\\cap{B}| }{|A| + |B|}$$"
   ]
  },
  {
   "cell_type": "markdown",
   "id": "5ece9df3",
   "metadata": {},
   "source": [
    "# Implementation with NumPy"
   ]
  },
  {
   "cell_type": "code",
   "execution_count": 156,
   "id": "55a18e4f",
   "metadata": {},
   "outputs": [],
   "source": [
    "import numpy as np\n",
    "\n",
    "\n",
    "################################\n",
    "### Continuous distance measures\n",
    "################################\n",
    "\n",
    "def euclidean_distance(a, b):\n",
    "    distance = 0\n",
    "    for ele_i, ele_j in zip(a, b):\n",
    "        distance += np.power(ele_i - ele_j, 2)\n",
    "    return np.sqrt(distance)\n",
    "\n",
    "\n",
    "def manhattan_distance(a, b):\n",
    "    distance = 0\n",
    "    for ele_i, ele_j in zip(a, b):\n",
    "        distance += abs(ele_i - ele_j)\n",
    "    return distance\n",
    "\n",
    "\n",
    "\n",
    "def cosine_similarity(a, b):\n",
    "    magnitude_a = np.sqrt(np.sum(np.power(a, 2)))\n",
    "    magnitude_b = np.sqrt(np.sum(np.power(b, 2)))\n",
    "    numerator = np.dot(a.T, b)\n",
    "    denominator = magnitude_a * magnitude_b\n",
    "    distance = numerator / denominator\n",
    "    return distance\n",
    "\n",
    "\n",
    "\n",
    "\n",
    "##############################\n",
    "### Discrete distance measures\n",
    "##############################\n",
    "\n",
    "def hamming_distance(a, b):\n",
    "    distance = 0\n",
    "    for i, values in enumerate(a):\n",
    "        distance += abs(a[i] - b[i])\n",
    "    return distance\n",
    "\n",
    "\n",
    "def jaccard_distance(a, b):\n",
    "    set_a, set_b = set(a), set(b)\n",
    "    numerator = len(set_a & set_b)\n",
    "    denominator = len(a) + len(b) - len(set_a & set_b)\n",
    "    jaccard_similarity = numerator / denominator\n",
    "    return 1 - jaccard_similarity"
   ]
  },
  {
   "cell_type": "code",
   "execution_count": 161,
   "id": "a87e7619",
   "metadata": {},
   "outputs": [],
   "source": [
    "a = np.array([2, 3, 4])\n",
    "b = np.array([12, 22, 34])"
   ]
  },
  {
   "cell_type": "code",
   "execution_count": 162,
   "id": "dc5e3a1f",
   "metadata": {},
   "outputs": [
    {
     "data": {
      "text/plain": [
       "36.89173349139343"
      ]
     },
     "execution_count": 162,
     "metadata": {},
     "output_type": "execute_result"
    }
   ],
   "source": [
    "euclidean_distance(a, b)"
   ]
  },
  {
   "cell_type": "code",
   "execution_count": 163,
   "id": "8a5c612e",
   "metadata": {},
   "outputs": [
    {
     "data": {
      "text/plain": [
       "59"
      ]
     },
     "execution_count": 163,
     "metadata": {},
     "output_type": "execute_result"
    }
   ],
   "source": [
    "manhattan_distance(a, b)"
   ]
  },
  {
   "cell_type": "code",
   "execution_count": 164,
   "id": "e99c88c3",
   "metadata": {},
   "outputs": [
    {
     "data": {
      "text/plain": [
       "0.99360098914121"
      ]
     },
     "execution_count": 164,
     "metadata": {},
     "output_type": "execute_result"
    }
   ],
   "source": [
    "cosine_similarity(a, b)"
   ]
  },
  {
   "cell_type": "code",
   "execution_count": 170,
   "id": "47187cd2",
   "metadata": {},
   "outputs": [
    {
     "data": {
      "text/plain": [
       "3"
      ]
     },
     "execution_count": 170,
     "metadata": {},
     "output_type": "execute_result"
    }
   ],
   "source": [
    "# if hamming distance = 0 (a is exactly b. No difference between a and b)\n",
    "hamming_distance([1, 1, 1, 1], \n",
    "                 [1, 0, 0, 0])"
   ]
  },
  {
   "cell_type": "code",
   "execution_count": 172,
   "id": "73b86f60",
   "metadata": {},
   "outputs": [
    {
     "data": {
      "text/plain": [
       "0.8"
      ]
     },
     "execution_count": 172,
     "metadata": {},
     "output_type": "execute_result"
    }
   ],
   "source": [
    "jaccard_distance([1, 2, 3, 4, 5, 6],\n",
    "                [5, 6, 7, 8, 9, 10])"
   ]
  }
 ],
 "metadata": {
  "kernelspec": {
   "display_name": "Python 3 (ipykernel)",
   "language": "python",
   "name": "python3"
  },
  "language_info": {
   "codemirror_mode": {
    "name": "ipython",
    "version": 3
   },
   "file_extension": ".py",
   "mimetype": "text/x-python",
   "name": "python",
   "nbconvert_exporter": "python",
   "pygments_lexer": "ipython3",
   "version": "3.8.8"
  }
 },
 "nbformat": 4,
 "nbformat_minor": 5
}
