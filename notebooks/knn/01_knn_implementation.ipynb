{
 "cells": [
  {
   "cell_type": "markdown",
   "id": "93b66939",
   "metadata": {},
   "source": [
    "# K-nearest neighbors Implementation"
   ]
  },
  {
   "cell_type": "markdown",
   "id": "ebc5e521",
   "metadata": {},
   "source": [
    "### 1. KNN Classifier with NumPy"
   ]
  },
  {
   "cell_type": "code",
   "execution_count": 1,
   "id": "dbb43e79",
   "metadata": {},
   "outputs": [],
   "source": [
    "import pandas as pd\n",
    "import numpy as np\n",
    "import matplotlib.pyplot as plt\n",
    "from sklearn.datasets import load_iris\n",
    "from sklearn.metrics import mean_squared_error\n",
    "from sklearn.model_selection import train_test_split\n",
    "from sklearn.metrics import accuracy_score\n",
    "plt.style.use('seaborn')\n",
    "%matplotlib inline"
   ]
  },
  {
   "cell_type": "code",
   "execution_count": 2,
   "id": "e0ad37cc",
   "metadata": {},
   "outputs": [
    {
     "data": {
      "text/html": [
       "<div>\n",
       "<style scoped>\n",
       "    .dataframe tbody tr th:only-of-type {\n",
       "        vertical-align: middle;\n",
       "    }\n",
       "\n",
       "    .dataframe tbody tr th {\n",
       "        vertical-align: top;\n",
       "    }\n",
       "\n",
       "    .dataframe thead th {\n",
       "        text-align: right;\n",
       "    }\n",
       "</style>\n",
       "<table border=\"1\" class=\"dataframe\">\n",
       "  <thead>\n",
       "    <tr style=\"text-align: right;\">\n",
       "      <th></th>\n",
       "      <th>sepal length (cm)</th>\n",
       "      <th>sepal width (cm)</th>\n",
       "      <th>petal length (cm)</th>\n",
       "      <th>petal width (cm)</th>\n",
       "      <th>target</th>\n",
       "    </tr>\n",
       "  </thead>\n",
       "  <tbody>\n",
       "    <tr>\n",
       "      <th>0</th>\n",
       "      <td>5.1</td>\n",
       "      <td>3.5</td>\n",
       "      <td>1.4</td>\n",
       "      <td>0.2</td>\n",
       "      <td>0</td>\n",
       "    </tr>\n",
       "    <tr>\n",
       "      <th>1</th>\n",
       "      <td>4.9</td>\n",
       "      <td>3.0</td>\n",
       "      <td>1.4</td>\n",
       "      <td>0.2</td>\n",
       "      <td>0</td>\n",
       "    </tr>\n",
       "    <tr>\n",
       "      <th>2</th>\n",
       "      <td>4.7</td>\n",
       "      <td>3.2</td>\n",
       "      <td>1.3</td>\n",
       "      <td>0.2</td>\n",
       "      <td>0</td>\n",
       "    </tr>\n",
       "    <tr>\n",
       "      <th>3</th>\n",
       "      <td>4.6</td>\n",
       "      <td>3.1</td>\n",
       "      <td>1.5</td>\n",
       "      <td>0.2</td>\n",
       "      <td>0</td>\n",
       "    </tr>\n",
       "    <tr>\n",
       "      <th>4</th>\n",
       "      <td>5.0</td>\n",
       "      <td>3.6</td>\n",
       "      <td>1.4</td>\n",
       "      <td>0.2</td>\n",
       "      <td>0</td>\n",
       "    </tr>\n",
       "    <tr>\n",
       "      <th>...</th>\n",
       "      <td>...</td>\n",
       "      <td>...</td>\n",
       "      <td>...</td>\n",
       "      <td>...</td>\n",
       "      <td>...</td>\n",
       "    </tr>\n",
       "    <tr>\n",
       "      <th>145</th>\n",
       "      <td>6.7</td>\n",
       "      <td>3.0</td>\n",
       "      <td>5.2</td>\n",
       "      <td>2.3</td>\n",
       "      <td>2</td>\n",
       "    </tr>\n",
       "    <tr>\n",
       "      <th>146</th>\n",
       "      <td>6.3</td>\n",
       "      <td>2.5</td>\n",
       "      <td>5.0</td>\n",
       "      <td>1.9</td>\n",
       "      <td>2</td>\n",
       "    </tr>\n",
       "    <tr>\n",
       "      <th>147</th>\n",
       "      <td>6.5</td>\n",
       "      <td>3.0</td>\n",
       "      <td>5.2</td>\n",
       "      <td>2.0</td>\n",
       "      <td>2</td>\n",
       "    </tr>\n",
       "    <tr>\n",
       "      <th>148</th>\n",
       "      <td>6.2</td>\n",
       "      <td>3.4</td>\n",
       "      <td>5.4</td>\n",
       "      <td>2.3</td>\n",
       "      <td>2</td>\n",
       "    </tr>\n",
       "    <tr>\n",
       "      <th>149</th>\n",
       "      <td>5.9</td>\n",
       "      <td>3.0</td>\n",
       "      <td>5.1</td>\n",
       "      <td>1.8</td>\n",
       "      <td>2</td>\n",
       "    </tr>\n",
       "  </tbody>\n",
       "</table>\n",
       "<p>150 rows × 5 columns</p>\n",
       "</div>"
      ],
      "text/plain": [
       "     sepal length (cm)  sepal width (cm)  petal length (cm)  petal width (cm)  \\\n",
       "0                  5.1               3.5                1.4               0.2   \n",
       "1                  4.9               3.0                1.4               0.2   \n",
       "2                  4.7               3.2                1.3               0.2   \n",
       "3                  4.6               3.1                1.5               0.2   \n",
       "4                  5.0               3.6                1.4               0.2   \n",
       "..                 ...               ...                ...               ...   \n",
       "145                6.7               3.0                5.2               2.3   \n",
       "146                6.3               2.5                5.0               1.9   \n",
       "147                6.5               3.0                5.2               2.0   \n",
       "148                6.2               3.4                5.4               2.3   \n",
       "149                5.9               3.0                5.1               1.8   \n",
       "\n",
       "     target  \n",
       "0         0  \n",
       "1         0  \n",
       "2         0  \n",
       "3         0  \n",
       "4         0  \n",
       "..      ...  \n",
       "145       2  \n",
       "146       2  \n",
       "147       2  \n",
       "148       2  \n",
       "149       2  \n",
       "\n",
       "[150 rows x 5 columns]"
      ]
     },
     "execution_count": 2,
     "metadata": {},
     "output_type": "execute_result"
    }
   ],
   "source": [
    "df = load_iris(as_frame=True)['frame']\n",
    "df"
   ]
  },
  {
   "cell_type": "code",
   "execution_count": 3,
   "id": "dc83d87a",
   "metadata": {},
   "outputs": [],
   "source": [
    "feature_cols = ['sepal length (cm)', 'sepal width (cm)', \n",
    "                'petal length (cm)', 'petal width (cm)']\n",
    "\n",
    "X = df[feature_cols]\n",
    "y = df['target']\n",
    "\n",
    "X_train, X_test, y_train, y_test = train_test_split(X, y, random_state=1, stratify=y)"
   ]
  },
  {
   "cell_type": "markdown",
   "id": "53b8356f",
   "metadata": {},
   "source": [
    "**KNN Classifier Implementation**"
   ]
  },
  {
   "cell_type": "code",
   "execution_count": 4,
   "id": "e755269e",
   "metadata": {},
   "outputs": [],
   "source": [
    "class KNNClassifier():\n",
    "    \n",
    "    '''\n",
    "    Classifier implementing the k-nearest neighbors vote.\n",
    "    '''\n",
    "    \n",
    "    def __init__(self, k=5, metric='minkowski', p=2):\n",
    "        \n",
    "        '''\n",
    "        \n",
    "        Parameters\n",
    "        ----------\n",
    "        k: int, default=5\n",
    "        The number of neighbors to query\n",
    "        \n",
    "        metric: str/ callable default='minkowski' \n",
    "        The distance measure, \n",
    "\n",
    "        p: int, default=2\n",
    "        Power parameter for the Minkowski metric. \n",
    "        This implementation use euclidean distance, synonymous with p = 2. \n",
    "        If p = 1, the distance metric is manhattan\n",
    "        \n",
    "        '''\n",
    "        \n",
    "        self.k = k\n",
    "        self.p = p\n",
    "        \n",
    "        if metric == 'minkowski' and p == 2:\n",
    "            self.dist_fn = self._euclidean_dist\n",
    "            \n",
    "        else:\n",
    "            self.dist_fn = self._dist_with_arbitrary_p\n",
    "            \n",
    "            \n",
    "    def _euclidean_dist(self, a, b):\n",
    "        dist = 0\n",
    "        for ele_i, ele_j in zip(a, b):\n",
    "            dist += ((ele_i - ele_j)**2)\n",
    "        dist = np.sqrt(dist)\n",
    "        return dist\n",
    "    \n",
    "    \n",
    "    def _dist_with_arbitrary_p(self, a, b): \n",
    "        dist = 0\n",
    "        for ele_i, ele_j in zip(a, b):\n",
    "            dist += np.power(abs(ele_i - ele_j), self.p)\n",
    "        dist = np.power(dist, 1/self.p)\n",
    "        return dist\n",
    "    \n",
    "\n",
    "    def _find_the_nearest(self, x):\n",
    "        dist_idx_pairs = []\n",
    "        for j in range(self.dataset_.shape[0]):\n",
    "            d = self.dist_fn(x, self.dataset_[j])\n",
    "            dist_idx_pairs.append((d, j))\n",
    "        sorted_dist_idx_pairs = sorted(dist_idx_pairs)\n",
    "        return sorted_dist_idx_pairs\n",
    "    \n",
    "    \n",
    "    def fit(self, x, y):\n",
    "        self.dataset_ = x.copy()\n",
    "        self.labels_ = y.copy()\n",
    "        self.possible_labels_ = np.unique(y)\n",
    "        \n",
    "    \n",
    "    def predict(self, x):\n",
    "        predictions = np.zeros(x.shape[0], dtype=int)\n",
    "        for i in range(x.shape[0]):\n",
    "            k_nearest = self._find_the_nearest(x[i])[:self.k]\n",
    "            indicies = [entry[1] for entry in k_nearest]\n",
    "            k_labels = self.labels_[indicies]\n",
    "            counts = np.bincount(k_labels, minlength=self.possible_labels_.shape[0])\n",
    "            pred_label = np.argmax(counts)\n",
    "            predictions[i] = pred_label\n",
    "        return predictions"
   ]
  },
  {
   "cell_type": "code",
   "execution_count": 5,
   "id": "636a1cb4",
   "metadata": {},
   "outputs": [],
   "source": [
    "k_range = range(1, 20)\n",
    "acc_scores = []\n",
    "\n",
    "for k in k_range:\n",
    "    knn = KNNClassifier(k=k)\n",
    "    knn.fit(X_train.values, y_train.values)\n",
    "    y_pred = knn.predict(X_test.values)\n",
    "    acc_scores.append(accuracy_score(y_test.values, y_pred))"
   ]
  },
  {
   "cell_type": "code",
   "execution_count": 6,
   "id": "2ea37bcd",
   "metadata": {},
   "outputs": [
    {
     "data": {
      "image/png": "[encoded data removed]",
      "text/plain": [
       "<Figure size 432x288 with 1 Axes>"
      ]
     },
     "metadata": {
      "needs_background": "light"
     },
     "output_type": "display_data"
    }
   ],
   "source": [
    "plt.plot(k_range, acc_scores, marker='o')\n",
    "plt.xlabel('Number of k-neighbors')\n",
    "plt.ylabel('Accuracy scores')\n",
    "plt.show()"
   ]
  },
  {
   "cell_type": "markdown",
   "id": "642a131c",
   "metadata": {},
   "source": [
    "- Choose k = 13"
   ]
  },
  {
   "cell_type": "code",
   "execution_count": 7,
   "id": "5921e726",
   "metadata": {},
   "outputs": [
    {
     "data": {
      "text/plain": [
       "0.9736842105263158"
      ]
     },
     "execution_count": 7,
     "metadata": {},
     "output_type": "execute_result"
    }
   ],
   "source": [
    "knn = KNNClassifier(k=13, p=2)\n",
    "knn.fit(X_train.values, y_train.values)\n",
    "y_pred = knn.predict(X_test.values)\n",
    "accuracy_score(y_test, y_pred)"
   ]
  },
  {
   "cell_type": "markdown",
   "id": "f42ff4cf",
   "metadata": {},
   "source": [
    "**Use scikit-learn**"
   ]
  },
  {
   "cell_type": "code",
   "execution_count": 8,
   "id": "ef919694",
   "metadata": {},
   "outputs": [
    {
     "data": {
      "text/plain": [
       "0.9736842105263158"
      ]
     },
     "execution_count": 8,
     "metadata": {},
     "output_type": "execute_result"
    }
   ],
   "source": [
    "from sklearn.neighbors import KNeighborsClassifier\n",
    "knn = KNeighborsClassifier(n_neighbors=13)\n",
    "knn.fit(X_train.values, y_train.values)\n",
    "y_pred = knn.predict(X_test.values)\n",
    "accuracy_score(y_test, y_pred)"
   ]
  },
  {
   "cell_type": "markdown",
   "id": "0318d1ed",
   "metadata": {},
   "source": [
    "### 2. KNN-Regressor with NumPy"
   ]
  },
  {
   "cell_type": "code",
   "execution_count": 9,
   "id": "806257fc",
   "metadata": {},
   "outputs": [
    {
     "data": {
      "text/html": [
       "<div>\n",
       "<style scoped>\n",
       "    .dataframe tbody tr th:only-of-type {\n",
       "        vertical-align: middle;\n",
       "    }\n",
       "\n",
       "    .dataframe tbody tr th {\n",
       "        vertical-align: top;\n",
       "    }\n",
       "\n",
       "    .dataframe thead th {\n",
       "        text-align: right;\n",
       "    }\n",
       "</style>\n",
       "<table border=\"1\" class=\"dataframe\">\n",
       "  <thead>\n",
       "    <tr style=\"text-align: right;\">\n",
       "      <th></th>\n",
       "      <th>Unnamed: 0</th>\n",
       "      <th>TV</th>\n",
       "      <th>Radio</th>\n",
       "      <th>Newspaper</th>\n",
       "      <th>Sales</th>\n",
       "    </tr>\n",
       "  </thead>\n",
       "  <tbody>\n",
       "    <tr>\n",
       "      <th>0</th>\n",
       "      <td>1</td>\n",
       "      <td>230.1</td>\n",
       "      <td>37.8</td>\n",
       "      <td>69.2</td>\n",
       "      <td>22.1</td>\n",
       "    </tr>\n",
       "    <tr>\n",
       "      <th>1</th>\n",
       "      <td>2</td>\n",
       "      <td>44.5</td>\n",
       "      <td>39.3</td>\n",
       "      <td>45.1</td>\n",
       "      <td>10.4</td>\n",
       "    </tr>\n",
       "    <tr>\n",
       "      <th>2</th>\n",
       "      <td>3</td>\n",
       "      <td>17.2</td>\n",
       "      <td>45.9</td>\n",
       "      <td>69.3</td>\n",
       "      <td>9.3</td>\n",
       "    </tr>\n",
       "    <tr>\n",
       "      <th>3</th>\n",
       "      <td>4</td>\n",
       "      <td>151.5</td>\n",
       "      <td>41.3</td>\n",
       "      <td>58.5</td>\n",
       "      <td>18.5</td>\n",
       "    </tr>\n",
       "    <tr>\n",
       "      <th>4</th>\n",
       "      <td>5</td>\n",
       "      <td>180.8</td>\n",
       "      <td>10.8</td>\n",
       "      <td>58.4</td>\n",
       "      <td>12.9</td>\n",
       "    </tr>\n",
       "    <tr>\n",
       "      <th>...</th>\n",
       "      <td>...</td>\n",
       "      <td>...</td>\n",
       "      <td>...</td>\n",
       "      <td>...</td>\n",
       "      <td>...</td>\n",
       "    </tr>\n",
       "    <tr>\n",
       "      <th>195</th>\n",
       "      <td>196</td>\n",
       "      <td>38.2</td>\n",
       "      <td>3.7</td>\n",
       "      <td>13.8</td>\n",
       "      <td>7.6</td>\n",
       "    </tr>\n",
       "    <tr>\n",
       "      <th>196</th>\n",
       "      <td>197</td>\n",
       "      <td>94.2</td>\n",
       "      <td>4.9</td>\n",
       "      <td>8.1</td>\n",
       "      <td>9.7</td>\n",
       "    </tr>\n",
       "    <tr>\n",
       "      <th>197</th>\n",
       "      <td>198</td>\n",
       "      <td>177.0</td>\n",
       "      <td>9.3</td>\n",
       "      <td>6.4</td>\n",
       "      <td>12.8</td>\n",
       "    </tr>\n",
       "    <tr>\n",
       "      <th>198</th>\n",
       "      <td>199</td>\n",
       "      <td>283.6</td>\n",
       "      <td>42.0</td>\n",
       "      <td>66.2</td>\n",
       "      <td>25.5</td>\n",
       "    </tr>\n",
       "    <tr>\n",
       "      <th>199</th>\n",
       "      <td>200</td>\n",
       "      <td>232.1</td>\n",
       "      <td>8.6</td>\n",
       "      <td>8.7</td>\n",
       "      <td>13.4</td>\n",
       "    </tr>\n",
       "  </tbody>\n",
       "</table>\n",
       "<p>200 rows × 5 columns</p>\n",
       "</div>"
      ],
      "text/plain": [
       "     Unnamed: 0     TV  Radio  Newspaper  Sales\n",
       "0             1  230.1   37.8       69.2   22.1\n",
       "1             2   44.5   39.3       45.1   10.4\n",
       "2             3   17.2   45.9       69.3    9.3\n",
       "3             4  151.5   41.3       58.5   18.5\n",
       "4             5  180.8   10.8       58.4   12.9\n",
       "..          ...    ...    ...        ...    ...\n",
       "195         196   38.2    3.7       13.8    7.6\n",
       "196         197   94.2    4.9        8.1    9.7\n",
       "197         198  177.0    9.3        6.4   12.8\n",
       "198         199  283.6   42.0       66.2   25.5\n",
       "199         200  232.1    8.6        8.7   13.4\n",
       "\n",
       "[200 rows x 5 columns]"
      ]
     },
     "execution_count": 9,
     "metadata": {},
     "output_type": "execute_result"
    }
   ],
   "source": [
    "df = pd.read_csv('https://raw.githubusercontent.com/justmarkham/scikit-learn-videos/master/data/Advertising.csv')\n",
    "df"
   ]
  },
  {
   "cell_type": "code",
   "execution_count": 10,
   "id": "47a7f648",
   "metadata": {},
   "outputs": [],
   "source": [
    "feature_cols = ['TV', 'Newspaper']\n",
    "\n",
    "X = df[feature_cols]\n",
    "y = df['Sales']\n",
    "\n",
    "X_train, X_test, y_train, y_test = train_test_split(X, y, random_state=1)"
   ]
  },
  {
   "cell_type": "markdown",
   "id": "0ef20e08",
   "metadata": {},
   "source": [
    "### KNN Regressor Implementation"
   ]
  },
  {
   "cell_type": "code",
   "execution_count": 11,
   "id": "df1bf6e8",
   "metadata": {},
   "outputs": [],
   "source": [
    "class KNNRegressor():\n",
    "    \n",
    "    '''\n",
    "    Regression based on k-nearest neighbors.\n",
    "\n",
    "    The target is predicted by averaging the predictions of k-nearest neighbors\n",
    "    '''\n",
    "    \n",
    "    def __init__(self, k=5, metric='minkowski', p=2):\n",
    "        \n",
    "        '''\n",
    "        \n",
    "        Parameters\n",
    "        ----------\n",
    "        k: int, default=5\n",
    "        The number of neighbors to query\n",
    "        \n",
    "        metric: str/ callable default='minkowski' \n",
    "        The distance measure, \n",
    "\n",
    "        p: int, default=2\n",
    "        Power parameter for the Minkowski metric. \n",
    "        This implementation use euclidean distance, synonymous with p = 2. \n",
    "        If p = 1, the distance metric is manhattan\n",
    "        \n",
    "        '''\n",
    "        \n",
    "        self.k = k\n",
    "        self.p = p\n",
    "        \n",
    "        if metric == 'minkowski' and p == 2:\n",
    "            self.dist_fn = self._euclidean_dist\n",
    "            \n",
    "        else:\n",
    "            self.dist_fn = self._dist_with_arbitrary_p\n",
    "            \n",
    "            \n",
    "    def _euclidean_dist(self, a, b):\n",
    "        dist = 0\n",
    "        for ele_i, ele_j in zip(a, b):\n",
    "            dist += ((ele_i - ele_j)**2)\n",
    "        dist = np.sqrt(dist)\n",
    "        return dist\n",
    "    \n",
    "    \n",
    "    def _dist_with_arbitrary_p(self, a, b): \n",
    "        dist = 0\n",
    "        for ele_i, ele_j in zip(a, b):\n",
    "            dist += np.power(abs(ele_i - ele_j), self.p)\n",
    "        dist = np.power(dist, 1/self.p)\n",
    "        return dist\n",
    "    \n",
    "\n",
    "    def _find_the_nearest(self, x):\n",
    "        dist_idx_pairs = []\n",
    "        for j in range(self.dataset_.shape[0]):\n",
    "            d = self.dist_fn(x, self.dataset_[j])\n",
    "            dist_idx_pairs.append((d, j))\n",
    "        sorted_dist_idx_pairs = sorted(dist_idx_pairs)\n",
    "        return sorted_dist_idx_pairs\n",
    "    \n",
    "    \n",
    "    def fit(self, x, y):\n",
    "        self.dataset_ = x.copy()\n",
    "        self.labels_ = y.copy()\n",
    "        self.possible_labels_ = np.unique(y)\n",
    "        \n",
    "    \n",
    "    def predict(self, x):\n",
    "        predictions = np.zeros(x.shape[0], dtype=float)\n",
    "        for i in range(x.shape[0]):\n",
    "            k_nearest = self._find_the_nearest(x[i])[:self.k]\n",
    "            indicies = [entry[1] for entry in k_nearest]\n",
    "            k_labels = self.labels_[indicies]\n",
    "            pred_label = np.sum(k_labels) / self.k\n",
    "            predictions[i] = pred_label\n",
    "        return predictions"
   ]
  },
  {
   "cell_type": "code",
   "execution_count": 12,
   "id": "31680499",
   "metadata": {},
   "outputs": [],
   "source": [
    "k_range = range(1, 20)\n",
    "mse = []\n",
    "\n",
    "for k in k_range:\n",
    "    knn_reg = KNNRegressor(k=k)\n",
    "    knn_reg.fit(X_train.values, y_train.values)\n",
    "    y_pred = knn_reg.predict(X_test.values)\n",
    "    mse.append(mean_squared_error(y_test.values, y_pred))"
   ]
  },
  {
   "cell_type": "code",
   "execution_count": 13,
   "id": "a998ac22",
   "metadata": {},
   "outputs": [
    {
     "data": {
      "image/png": "[encoded data removed]",
      "text/plain": [
       "<Figure size 432x288 with 1 Axes>"
      ]
     },
     "metadata": {
      "needs_background": "light"
     },
     "output_type": "display_data"
    }
   ],
   "source": [
    "plt.plot(k_range, mse, marker='o')\n",
    "plt.xlabel('Number of k-neighbors')\n",
    "plt.ylabel('MSE')\n",
    "plt.show()"
   ]
  },
  {
   "cell_type": "markdown",
   "id": "86878682",
   "metadata": {},
   "source": [
    "- Choose k = 7"
   ]
  },
  {
   "cell_type": "code",
   "execution_count": 14,
   "id": "5e228095",
   "metadata": {},
   "outputs": [
    {
     "data": {
      "text/plain": [
       "10.719865306122449"
      ]
     },
     "execution_count": 14,
     "metadata": {},
     "output_type": "execute_result"
    }
   ],
   "source": [
    "knn_reg = KNNRegressor(k=7)\n",
    "knn_reg.fit(X_train.values, y_train.values)\n",
    "y_pred = knn_reg.predict(X_test.values)\n",
    "mean_squared_error(y_test, y_pred)"
   ]
  },
  {
   "cell_type": "markdown",
   "id": "bfb3c608",
   "metadata": {},
   "source": [
    "**Use scikit-learn**"
   ]
  },
  {
   "cell_type": "code",
   "execution_count": 15,
   "id": "56a0bd64",
   "metadata": {},
   "outputs": [
    {
     "data": {
      "text/plain": [
       "10.719865306122449"
      ]
     },
     "execution_count": 15,
     "metadata": {},
     "output_type": "execute_result"
    }
   ],
   "source": [
    "from sklearn.neighbors import KNeighborsRegressor\n",
    "knn_reg = KNeighborsRegressor(n_neighbors=7)\n",
    "knn_reg.fit(X_train.values, y_train.values)\n",
    "y_pred = knn_reg.predict(X_test.values)\n",
    "mean_squared_error(y_test, y_pred)"
   ]
  }
 ],
 "metadata": {
  "kernelspec": {
   "display_name": "Python 3 (ipykernel)",
   "language": "python",
   "name": "python3"
  },
  "language_info": {
   "codemirror_mode": {
    "name": "ipython",
    "version": 3
   },
   "file_extension": ".py",
   "mimetype": "text/x-python",
   "name": "python",
   "nbconvert_exporter": "python",
   "pygments_lexer": "ipython3",
   "version": "3.8.8"
  }
 },
 "nbformat": 4,
 "nbformat_minor": 5
}
