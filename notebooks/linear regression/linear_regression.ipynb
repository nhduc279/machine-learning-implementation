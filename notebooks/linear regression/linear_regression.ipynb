{
 "cells": [
  {
   "cell_type": "markdown",
   "id": "d7127017",
   "metadata": {},
   "source": [
    "# Linear Regression Implementation"
   ]
  },
  {
   "cell_type": "markdown",
   "id": "12f6fb43",
   "metadata": {},
   "source": [
    "### 1. Linear Regression"
   ]
  },
  {
   "cell_type": "code",
   "execution_count": null,
   "id": "ad0c080d",
   "metadata": {},
   "outputs": [],
   "source": [
    "import pandas as pd\n",
    "import numpy as np\n",
    "import matplotlib.pyplot as plt\n",
    "import torch\n",
    "import torch.nn.functional as F\n",
    "from sklearn.preprocessing import StandardScaler\n",
    "from sklearn.model_selection import train_test_split\n",
    "\n",
    "plt.style.use('seaborn')\n",
    "%matplotlib inline"
   ]
  },
  {
   "cell_type": "code",
   "execution_count": null,
   "id": "20237cd1",
   "metadata": {},
   "outputs": [],
   "source": [
    "df = pd.read_csv('https://raw.githubusercontent.com/justmarkham/scikit-learn-videos/master/data/Advertising.csv')\n",
    "df"
   ]
  },
  {
   "cell_type": "code",
   "execution_count": null,
   "id": "a5cafb1b",
   "metadata": {},
   "outputs": [],
   "source": [
    "# prepare X (features) and y (target)\n",
    "feature_cols = ['TV', 'Newspaper', 'Radio']\n",
    "X = df[feature_cols]\n",
    "y = df['Sales']"
   ]
  },
  {
   "cell_type": "code",
   "execution_count": null,
   "id": "220ea360",
   "metadata": {},
   "outputs": [],
   "source": [
    "scaler = StandardScaler()\n",
    "\n",
    "# do train_test_split (train:75, test:25)\n",
    "X_train, X_test, y_train, y_test = train_test_split(X, y, random_state=1)\n",
    "\n",
    "# do scaling for training convergence\n",
    "X_train, X_test = scaler.fit_transform(X_train), scaler.fit_transform(X_test)"
   ]
  },
  {
   "cell_type": "code",
   "execution_count": null,
   "id": "23da03fa",
   "metadata": {},
   "outputs": [],
   "source": [
    "# determine whether system supports CUDA or not \n",
    "device = torch.device('cuda:0' if torch.cuda.is_available() else 'cpu')"
   ]
  },
  {
   "cell_type": "code",
   "execution_count": null,
   "id": "e2ef8f0f",
   "metadata": {},
   "outputs": [],
   "source": [
    "# convert numpy arrays into pytorch tensors\n",
    "X_train = torch.tensor(X_train, dtype=torch.float32).to(device)\n",
    "X_test = torch.tensor(X_test, dtype=torch.float32).to(device)\n",
    "y_train = torch.tensor(y_train.values, dtype=torch.float32).to(device)\n",
    "y_test = torch.tensor(y_test.values, dtype=torch.float32).to(device)"
   ]
  },
  {
   "cell_type": "code",
   "execution_count": null,
   "id": "fd6fde98",
   "metadata": {},
   "outputs": [],
   "source": [
    "cost = []\n",
    "\n",
    "class LinearRegression(torch.nn.Module):\n",
    "    \n",
    "    def __init__(self, num_features):\n",
    "        super(LinearRegression, self).__init__()       \n",
    "        self.num_features = num_features\n",
    "        self.linear = torch.nn.Linear(num_features, 1)\n",
    "        self.linear.weight.detach().normal_(0, .1)\n",
    "        self.linear.bias.detach().zero_()\n",
    "        \n",
    "    \n",
    "    def forward(self, x):\n",
    "        logits = self.linear(x)\n",
    "        yhat = logits.view(-1)\n",
    "        return yhat\n",
    "    \n",
    "\n",
    "    def train(self, x, y, num_epochs, learning_rate=0.1):\n",
    "        \n",
    "        # use gradient descent as the optimizer\n",
    "        optimizer = torch.optim.SGD(self.parameters(), lr=learning_rate)\n",
    "        \n",
    "        for e in range(num_epochs):\n",
    "            \n",
    "            # compute outputs ###\n",
    "            yhat = self.forward(x)\n",
    "            \n",
    "            # compute the loss\n",
    "            loss = F.mse_loss(yhat, y, reduction='mean')\n",
    "            \n",
    "            # reset gradients from the previous interaction\n",
    "            optimizer.zero_grad()\n",
    "            \n",
    "            # comp. gradients\n",
    "            loss.backward()          \n",
    "            \n",
    "            # update weights and bias\n",
    "            optimizer.step()\n",
    "\n",
    "            \n",
    "            ### Logging ####\n",
    "            with torch.no_grad():\n",
    "                yhat = self.forward(x)\n",
    "                curr_loss = F.mse_loss(yhat, y, reduction='mean')\n",
    "                print('Epoch: %03d' %(e+1), end='')\n",
    "                print(' | MSE: %.3f' %curr_loss)\n",
    "                cost.append(curr_loss) \n",
    "            \n",
    "    def predict(self, x):\n",
    "        predictions = self.forward(x)\n",
    "        return predictions"
   ]
  },
  {
   "cell_type": "code",
   "execution_count": null,
   "id": "577e81d3",
   "metadata": {},
   "outputs": [],
   "source": [
    "# training\n",
    "linreg = LinearRegression(num_features=X_train.size(1))\n",
    "linreg.to(device)\n",
    "linreg.train(X_train, y_train, num_epochs=70)"
   ]
  },
  {
   "cell_type": "code",
   "execution_count": null,
   "id": "ed856fd6",
   "metadata": {},
   "outputs": [],
   "source": [
    "# plot the MSE-loss after each epoch\n",
    "plt.plot(range(len(cost)), cost)\n",
    "plt.xlabel('Epoch')\n",
    "plt.ylabel('MSE')\n",
    "plt.show()"
   ]
  },
  {
   "cell_type": "code",
   "execution_count": null,
   "id": "ee37a0f8",
   "metadata": {},
   "outputs": [],
   "source": [
    "# examine the coefficients and intercept\n",
    "print(f'Coefficients: {list(zip(feature_cols, linreg.linear.weight.detach()))}')\n",
    "print(f'Intercept: {linreg.linear.bias.detach()}')\n",
    "print(f'- MSE: {F.mse_loss(y_test, linreg.predict(X_test).detach()):.3f}')"
   ]
  },
  {
   "cell_type": "markdown",
   "id": "122ec660",
   "metadata": {},
   "source": [
    "**Use scikit-learn**"
   ]
  },
  {
   "cell_type": "code",
   "execution_count": null,
   "id": "96ab6faf",
   "metadata": {},
   "outputs": [],
   "source": [
    "from sklearn.linear_model import LinearRegression\n",
    "from sklearn.metrics import mean_squared_error\n",
    "\n",
    "linreg = LinearRegression()\n",
    "linreg.fit(X_train, y_train)\n",
    "y_pred = linreg.predict(X_test)\n",
    "\n",
    "print(f'Coefficients: {list(zip(feature_cols, linreg.coef_))}')\n",
    "print(f'Intercept: {linreg.intercept_:.4f}')\n",
    "print(f'- MSE: {mean_squared_error(y_test, y_pred):.3f}')"
   ]
  },
  {
   "cell_type": "markdown",
   "id": "b0f297c3",
   "metadata": {},
   "source": [
    "**Analytical solution**\n",
    "$$(X^T.X)^{-1}.X^T.y$$\n",
    "- Set: $$a = (X^T.X)^{-1}, b=a.X^T, w=b.y$$\n",
    "- After finding w, we can compute the bias by: \n",
    "$$bias = W.X - y$$"
   ]
  },
  {
   "cell_type": "code",
   "execution_count": null,
   "id": "16595779",
   "metadata": {},
   "outputs": [],
   "source": [
    "a = torch.inverse(torch.mm(X_train.T, X_train))\n",
    "b = torch.mm(a, X_train.T)\n",
    "\n",
    "w = torch.mm(b, y_train.view(-1, 1))\n",
    "bias = (y_train - torch.mm(X_train, w).view(-1))[0]\n",
    "\n",
    "print(f'Coefficients: {list(zip(feature_cols, w.view(-1).numpy()))}')\n",
    "print(f'Intercept: {bias:.3f}')"
   ]
  }
 ],
 "metadata": {
  "kernelspec": {
   "display_name": "Python 3 (ipykernel)",
   "language": "python",
   "name": "python3"
  },
  "language_info": {
   "codemirror_mode": {
    "name": "ipython",
    "version": 3
   },
   "file_extension": ".py",
   "mimetype": "text/x-python",
   "name": "python",
   "nbconvert_exporter": "python",
   "pygments_lexer": "ipython3",
   "version": "3.8.8"
  }
 },
 "nbformat": 4,
 "nbformat_minor": 5
}
