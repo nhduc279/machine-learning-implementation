{
 "cells": [
  {
   "cell_type": "markdown",
   "id": "d7127017",
   "metadata": {},
   "source": [
    "# Linear Regression Implementation"
   ]
  },
  {
   "cell_type": "markdown",
   "id": "12f6fb43",
   "metadata": {},
   "source": [
    "### 1. Linear Regression"
   ]
  },
  {
   "cell_type": "code",
   "execution_count": 1,
   "id": "ad0c080d",
   "metadata": {},
   "outputs": [],
   "source": [
    "import pandas as pd\n",
    "import matplotlib.pyplot as plt\n",
    "import torch\n",
    "import torch.nn.functional as F\n",
    "from sklearn.preprocessing import StandardScaler\n",
    "from sklearn.model_selection import train_test_split\n",
    "plt.style.use('seaborn')\n",
    "%matplotlib inline"
   ]
  },
  {
   "cell_type": "code",
   "execution_count": 2,
   "id": "20237cd1",
   "metadata": {},
   "outputs": [
    {
     "data": {
      "text/html": [
       "<div>\n",
       "<style scoped>\n",
       "    .dataframe tbody tr th:only-of-type {\n",
       "        vertical-align: middle;\n",
       "    }\n",
       "\n",
       "    .dataframe tbody tr th {\n",
       "        vertical-align: top;\n",
       "    }\n",
       "\n",
       "    .dataframe thead th {\n",
       "        text-align: right;\n",
       "    }\n",
       "</style>\n",
       "<table border=\"1\" class=\"dataframe\">\n",
       "  <thead>\n",
       "    <tr style=\"text-align: right;\">\n",
       "      <th></th>\n",
       "      <th>Unnamed: 0</th>\n",
       "      <th>TV</th>\n",
       "      <th>Radio</th>\n",
       "      <th>Newspaper</th>\n",
       "      <th>Sales</th>\n",
       "    </tr>\n",
       "  </thead>\n",
       "  <tbody>\n",
       "    <tr>\n",
       "      <th>0</th>\n",
       "      <td>1</td>\n",
       "      <td>230.1</td>\n",
       "      <td>37.8</td>\n",
       "      <td>69.2</td>\n",
       "      <td>22.1</td>\n",
       "    </tr>\n",
       "    <tr>\n",
       "      <th>1</th>\n",
       "      <td>2</td>\n",
       "      <td>44.5</td>\n",
       "      <td>39.3</td>\n",
       "      <td>45.1</td>\n",
       "      <td>10.4</td>\n",
       "    </tr>\n",
       "    <tr>\n",
       "      <th>2</th>\n",
       "      <td>3</td>\n",
       "      <td>17.2</td>\n",
       "      <td>45.9</td>\n",
       "      <td>69.3</td>\n",
       "      <td>9.3</td>\n",
       "    </tr>\n",
       "    <tr>\n",
       "      <th>3</th>\n",
       "      <td>4</td>\n",
       "      <td>151.5</td>\n",
       "      <td>41.3</td>\n",
       "      <td>58.5</td>\n",
       "      <td>18.5</td>\n",
       "    </tr>\n",
       "    <tr>\n",
       "      <th>4</th>\n",
       "      <td>5</td>\n",
       "      <td>180.8</td>\n",
       "      <td>10.8</td>\n",
       "      <td>58.4</td>\n",
       "      <td>12.9</td>\n",
       "    </tr>\n",
       "    <tr>\n",
       "      <th>...</th>\n",
       "      <td>...</td>\n",
       "      <td>...</td>\n",
       "      <td>...</td>\n",
       "      <td>...</td>\n",
       "      <td>...</td>\n",
       "    </tr>\n",
       "    <tr>\n",
       "      <th>195</th>\n",
       "      <td>196</td>\n",
       "      <td>38.2</td>\n",
       "      <td>3.7</td>\n",
       "      <td>13.8</td>\n",
       "      <td>7.6</td>\n",
       "    </tr>\n",
       "    <tr>\n",
       "      <th>196</th>\n",
       "      <td>197</td>\n",
       "      <td>94.2</td>\n",
       "      <td>4.9</td>\n",
       "      <td>8.1</td>\n",
       "      <td>9.7</td>\n",
       "    </tr>\n",
       "    <tr>\n",
       "      <th>197</th>\n",
       "      <td>198</td>\n",
       "      <td>177.0</td>\n",
       "      <td>9.3</td>\n",
       "      <td>6.4</td>\n",
       "      <td>12.8</td>\n",
       "    </tr>\n",
       "    <tr>\n",
       "      <th>198</th>\n",
       "      <td>199</td>\n",
       "      <td>283.6</td>\n",
       "      <td>42.0</td>\n",
       "      <td>66.2</td>\n",
       "      <td>25.5</td>\n",
       "    </tr>\n",
       "    <tr>\n",
       "      <th>199</th>\n",
       "      <td>200</td>\n",
       "      <td>232.1</td>\n",
       "      <td>8.6</td>\n",
       "      <td>8.7</td>\n",
       "      <td>13.4</td>\n",
       "    </tr>\n",
       "  </tbody>\n",
       "</table>\n",
       "<p>200 rows × 5 columns</p>\n",
       "</div>"
      ],
      "text/plain": [
       "     Unnamed: 0     TV  Radio  Newspaper  Sales\n",
       "0             1  230.1   37.8       69.2   22.1\n",
       "1             2   44.5   39.3       45.1   10.4\n",
       "2             3   17.2   45.9       69.3    9.3\n",
       "3             4  151.5   41.3       58.5   18.5\n",
       "4             5  180.8   10.8       58.4   12.9\n",
       "..          ...    ...    ...        ...    ...\n",
       "195         196   38.2    3.7       13.8    7.6\n",
       "196         197   94.2    4.9        8.1    9.7\n",
       "197         198  177.0    9.3        6.4   12.8\n",
       "198         199  283.6   42.0       66.2   25.5\n",
       "199         200  232.1    8.6        8.7   13.4\n",
       "\n",
       "[200 rows x 5 columns]"
      ]
     },
     "execution_count": 2,
     "metadata": {},
     "output_type": "execute_result"
    }
   ],
   "source": [
    "df = pd.read_csv('https://raw.githubusercontent.com/justmarkham/scikit-learn-videos/master/data/Advertising.csv')\n",
    "df"
   ]
  },
  {
   "cell_type": "code",
   "execution_count": 3,
   "id": "a5cafb1b",
   "metadata": {},
   "outputs": [],
   "source": [
    "feature_cols = ['TV', 'Newspaper', 'Sales']\n",
    "X = df[feature_cols]\n",
    "y = df['Sales']"
   ]
  },
  {
   "cell_type": "code",
   "execution_count": 4,
   "id": "220ea360",
   "metadata": {},
   "outputs": [],
   "source": [
    "scaler = StandardScaler()\n",
    "X_train, X_test, y_train, y_test = train_test_split(X, y, random_state=1)\n",
    "X_train, X_test = scaler.fit_transform(X_train), scaler.fit_transform(X_test)"
   ]
  },
  {
   "cell_type": "code",
   "execution_count": 5,
   "id": "23da03fa",
   "metadata": {},
   "outputs": [],
   "source": [
    "device = torch.device('cuda:0' if torch.cuda.is_available() else 'cpu')"
   ]
  },
  {
   "cell_type": "code",
   "execution_count": 6,
   "id": "e2ef8f0f",
   "metadata": {},
   "outputs": [],
   "source": [
    "X_train = torch.tensor(X_train, dtype=torch.float32).to(device)\n",
    "X_test = torch.tensor(X_test, dtype=torch.float32).to(device)\n",
    "y_train = torch.tensor(y_train.values, dtype=torch.float32).to(device)\n",
    "y_test = torch.tensor(y_test.values, dtype=torch.float32).to(device)"
   ]
  },
  {
   "cell_type": "code",
   "execution_count": 7,
   "id": "fd6fde98",
   "metadata": {},
   "outputs": [],
   "source": [
    "cost = []\n",
    "\n",
    "class LinearRegression(torch.nn.Module):\n",
    "    \n",
    "    def __init__(self, num_features):\n",
    "        super(LinearRegression, self).__init__()       \n",
    "        self.num_features = num_features\n",
    "        self.linear = torch.nn.Linear(num_features, 1)\n",
    "        self.linear.weight.detach().normal_(0, .1)\n",
    "        self.linear.bias.detach().zero_()\n",
    "        \n",
    "    \n",
    "    def forward(self, x):\n",
    "        logits = self.linear(x)\n",
    "        yhat = logits.view(-1)\n",
    "        return yhat\n",
    "    \n",
    "\n",
    "    def train(self, x, y, num_epochs, learning_rate=0.1):\n",
    "        \n",
    "        optimizer = torch.optim.SGD(self.parameters(), lr=learning_rate)\n",
    "        for e in range(num_epochs):\n",
    "            yhat = self.forward(x)\n",
    "            loss = F.mse_loss(yhat, y, reduction='mean')\n",
    "            optimizer.zero_grad()\n",
    "            loss.backward()          \n",
    "            optimizer.step()\n",
    "\n",
    "            \n",
    "            ### Logging ####\n",
    "            with torch.no_grad():\n",
    "                yhat = self.forward(x)\n",
    "                curr_loss = F.mse_loss(yhat, y, reduction='mean')\n",
    "                print('Epoch: %03d' %(e+1), end='')\n",
    "                print(' | MSE: %.3f' %curr_loss)\n",
    "                cost.append(curr_loss) \n",
    "            \n",
    "    def predict(self, x):\n",
    "        predictions = self.forward(x)\n",
    "        return predictions"
   ]
  },
  {
   "cell_type": "code",
   "execution_count": 8,
   "id": "577e81d3",
   "metadata": {},
   "outputs": [
    {
     "name": "stdout",
     "output_type": "stream",
     "text": [
      "Epoch: 001 | MSE: 134.347\n",
      "Epoch: 002 | MSE: 84.382\n",
      "Epoch: 003 | MSE: 53.773\n",
      "Epoch: 004 | MSE: 34.695\n",
      "Epoch: 005 | MSE: 22.661\n",
      "Epoch: 006 | MSE: 15.003\n",
      "Epoch: 007 | MSE: 10.098\n",
      "Epoch: 008 | MSE: 6.935\n",
      "Epoch: 009 | MSE: 4.881\n",
      "Epoch: 010 | MSE: 3.538\n",
      "Epoch: 011 | MSE: 2.649\n",
      "Epoch: 012 | MSE: 2.053\n",
      "Epoch: 013 | MSE: 1.646\n",
      "Epoch: 014 | MSE: 1.362\n",
      "Epoch: 015 | MSE: 1.159\n",
      "Epoch: 016 | MSE: 1.008\n",
      "Epoch: 017 | MSE: 0.892\n",
      "Epoch: 018 | MSE: 0.801\n",
      "Epoch: 019 | MSE: 0.726\n",
      "Epoch: 020 | MSE: 0.663\n",
      "Epoch: 021 | MSE: 0.608\n",
      "Epoch: 022 | MSE: 0.560\n",
      "Epoch: 023 | MSE: 0.517\n",
      "Epoch: 024 | MSE: 0.479\n",
      "Epoch: 025 | MSE: 0.443\n",
      "Epoch: 026 | MSE: 0.411\n",
      "Epoch: 027 | MSE: 0.381\n",
      "Epoch: 028 | MSE: 0.354\n",
      "Epoch: 029 | MSE: 0.328\n",
      "Epoch: 030 | MSE: 0.305\n",
      "Epoch: 031 | MSE: 0.283\n",
      "Epoch: 032 | MSE: 0.263\n",
      "Epoch: 033 | MSE: 0.244\n",
      "Epoch: 034 | MSE: 0.227\n",
      "Epoch: 035 | MSE: 0.211\n",
      "Epoch: 036 | MSE: 0.196\n",
      "Epoch: 037 | MSE: 0.182\n",
      "Epoch: 038 | MSE: 0.169\n",
      "Epoch: 039 | MSE: 0.157\n",
      "Epoch: 040 | MSE: 0.145\n",
      "Epoch: 041 | MSE: 0.135\n",
      "Epoch: 042 | MSE: 0.126\n",
      "Epoch: 043 | MSE: 0.117\n",
      "Epoch: 044 | MSE: 0.108\n",
      "Epoch: 045 | MSE: 0.101\n",
      "Epoch: 046 | MSE: 0.093\n",
      "Epoch: 047 | MSE: 0.087\n",
      "Epoch: 048 | MSE: 0.081\n",
      "Epoch: 049 | MSE: 0.075\n",
      "Epoch: 050 | MSE: 0.070\n"
     ]
    }
   ],
   "source": [
    "linreg = LinearRegression(num_features=X_train.size(1))\n",
    "linreg.to(device)\n",
    "linreg.train(X_train, y_train, num_epochs=50)"
   ]
  },
  {
   "cell_type": "code",
   "execution_count": 9,
   "id": "ed856fd6",
   "metadata": {},
   "outputs": [
    {
     "data": {
      "image/png": "[encoded data removed]",
      "text/plain": [
       "<Figure size 432x288 with 1 Axes>"
      ]
     },
     "metadata": {
      "needs_background": "light"
     },
     "output_type": "display_data"
    }
   ],
   "source": [
    "plt.plot(range(len(cost)), cost)\n",
    "plt.show()"
   ]
  },
  {
   "cell_type": "code",
   "execution_count": 10,
   "id": "ee37a0f8",
   "metadata": {},
   "outputs": [
    {
     "name": "stdout",
     "output_type": "stream",
     "text": [
      "- Coef: tensor([[0.4175, 0.1168, 4.8626]])\n",
      "- Intercept: tensor([13.8105])\n",
      "- MSE: 0.926\n"
     ]
    }
   ],
   "source": [
    "print(f'- Coef: {linreg.linear.weight.detach()}')\n",
    "print(f'- Intercept: {linreg.linear.bias.detach()}')\n",
    "print(f'- MSE: {F.mse_loss(y_test, linreg.predict(X_test).detach()):.3f}')"
   ]
  },
  {
   "cell_type": "markdown",
   "id": "122ec660",
   "metadata": {},
   "source": [
    "**Use scikit-learn**"
   ]
  },
  {
   "cell_type": "code",
   "execution_count": 11,
   "id": "96ab6faf",
   "metadata": {},
   "outputs": [
    {
     "name": "stdout",
     "output_type": "stream",
     "text": [
      "- Coef: [-1.55734369e-07 -1.17443506e-07  5.30475330e+00]\n",
      "- Intercept: 13.8107\n",
      "- MSE: 0.938\n"
     ]
    }
   ],
   "source": [
    "from sklearn.linear_model import LinearRegression\n",
    "from sklearn.metrics import mean_squared_error\n",
    "\n",
    "linreg = LinearRegression()\n",
    "linreg.fit(X_train, y_train)\n",
    "y_pred = linreg.predict(X_test)\n",
    "\n",
    "print(f'- Coef: {linreg.coef_}')\n",
    "print(f'- Intercept: {linreg.intercept_:.4f}')\n",
    "print(f'- MSE: {mean_squared_error(y_test, y_pred):.3f}')"
   ]
  },
  {
   "cell_type": "markdown",
   "id": "b0f297c3",
   "metadata": {},
   "source": [
    "**Analytical solution to find the coefficients**\n",
    "$$(X^T.X)^{-1}.X^T.y$$\n",
    "- Set: $$a = (X^T.X)^{-1}, b=a.X^T, w=b.y$$\n",
    "- After finding w, we can compute the bias by: \n",
    "$$bias = W.X - y$$"
   ]
  },
  {
   "cell_type": "code",
   "execution_count": 12,
   "id": "16595779",
   "metadata": {},
   "outputs": [
    {
     "name": "stdout",
     "output_type": "stream",
     "text": [
      "- Intercept: 13.811\n",
      "- Coef: tensor([[-1.8477e-06],\n",
      "        [-5.9605e-07],\n",
      "        [ 5.3048e+00]])\n"
     ]
    }
   ],
   "source": [
    "a = torch.inverse(torch.mm(X_train.T, X_train))\n",
    "b = torch.mm(a, X_train.T)\n",
    "w = torch.mm(b, y_train.view(-1, 1))\n",
    "bias = (y_train - torch.mm(X_train, w).view(-1))[0]\n",
    "\n",
    "print(f'- Intercept: {bias:.3f}')\n",
    "print(f'- Coef: {w}')"
   ]
  }
 ],
 "metadata": {
  "kernelspec": {
   "display_name": "Python 3 (ipykernel)",
   "language": "python",
   "name": "python3"
  },
  "language_info": {
   "codemirror_mode": {
    "name": "ipython",
    "version": 3
   },
   "file_extension": ".py",
   "mimetype": "text/x-python",
   "name": "python",
   "nbconvert_exporter": "python",
   "pygments_lexer": "ipython3",
   "version": "3.8.8"
  }
 },
 "nbformat": 4,
 "nbformat_minor": 5
}
