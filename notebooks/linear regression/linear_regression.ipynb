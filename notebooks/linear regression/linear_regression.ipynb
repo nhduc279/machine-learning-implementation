{
 "cells": [
  {
   "cell_type": "markdown",
   "id": "d7127017",
   "metadata": {},
   "source": [
    "# Linear Regression Implementation"
   ]
  },
  {
   "cell_type": "markdown",
   "id": "12f6fb43",
   "metadata": {},
   "source": [
    "### 1. Linear Regression"
   ]
  },
  {
   "cell_type": "code",
   "execution_count": 1,
   "id": "ad0c080d",
   "metadata": {},
   "outputs": [],
   "source": [
    "import pandas as pd\n",
    "import numpy as np\n",
    "import matplotlib.pyplot as plt\n",
    "import torch\n",
    "import torch.nn.functional as F\n",
    "from sklearn.preprocessing import StandardScaler\n",
    "from sklearn.model_selection import train_test_split\n",
    "\n",
    "plt.style.use('seaborn')\n",
    "%matplotlib inline"
   ]
  },
  {
   "cell_type": "code",
   "execution_count": 2,
   "id": "20237cd1",
   "metadata": {},
   "outputs": [
    {
     "data": {
      "text/html": [
       "<div>\n",
       "<style scoped>\n",
       "    .dataframe tbody tr th:only-of-type {\n",
       "        vertical-align: middle;\n",
       "    }\n",
       "\n",
       "    .dataframe tbody tr th {\n",
       "        vertical-align: top;\n",
       "    }\n",
       "\n",
       "    .dataframe thead th {\n",
       "        text-align: right;\n",
       "    }\n",
       "</style>\n",
       "<table border=\"1\" class=\"dataframe\">\n",
       "  <thead>\n",
       "    <tr style=\"text-align: right;\">\n",
       "      <th></th>\n",
       "      <th>Unnamed: 0</th>\n",
       "      <th>TV</th>\n",
       "      <th>Radio</th>\n",
       "      <th>Newspaper</th>\n",
       "      <th>Sales</th>\n",
       "    </tr>\n",
       "  </thead>\n",
       "  <tbody>\n",
       "    <tr>\n",
       "      <th>0</th>\n",
       "      <td>1</td>\n",
       "      <td>230.1</td>\n",
       "      <td>37.8</td>\n",
       "      <td>69.2</td>\n",
       "      <td>22.1</td>\n",
       "    </tr>\n",
       "    <tr>\n",
       "      <th>1</th>\n",
       "      <td>2</td>\n",
       "      <td>44.5</td>\n",
       "      <td>39.3</td>\n",
       "      <td>45.1</td>\n",
       "      <td>10.4</td>\n",
       "    </tr>\n",
       "    <tr>\n",
       "      <th>2</th>\n",
       "      <td>3</td>\n",
       "      <td>17.2</td>\n",
       "      <td>45.9</td>\n",
       "      <td>69.3</td>\n",
       "      <td>9.3</td>\n",
       "    </tr>\n",
       "    <tr>\n",
       "      <th>3</th>\n",
       "      <td>4</td>\n",
       "      <td>151.5</td>\n",
       "      <td>41.3</td>\n",
       "      <td>58.5</td>\n",
       "      <td>18.5</td>\n",
       "    </tr>\n",
       "    <tr>\n",
       "      <th>4</th>\n",
       "      <td>5</td>\n",
       "      <td>180.8</td>\n",
       "      <td>10.8</td>\n",
       "      <td>58.4</td>\n",
       "      <td>12.9</td>\n",
       "    </tr>\n",
       "    <tr>\n",
       "      <th>...</th>\n",
       "      <td>...</td>\n",
       "      <td>...</td>\n",
       "      <td>...</td>\n",
       "      <td>...</td>\n",
       "      <td>...</td>\n",
       "    </tr>\n",
       "    <tr>\n",
       "      <th>195</th>\n",
       "      <td>196</td>\n",
       "      <td>38.2</td>\n",
       "      <td>3.7</td>\n",
       "      <td>13.8</td>\n",
       "      <td>7.6</td>\n",
       "    </tr>\n",
       "    <tr>\n",
       "      <th>196</th>\n",
       "      <td>197</td>\n",
       "      <td>94.2</td>\n",
       "      <td>4.9</td>\n",
       "      <td>8.1</td>\n",
       "      <td>9.7</td>\n",
       "    </tr>\n",
       "    <tr>\n",
       "      <th>197</th>\n",
       "      <td>198</td>\n",
       "      <td>177.0</td>\n",
       "      <td>9.3</td>\n",
       "      <td>6.4</td>\n",
       "      <td>12.8</td>\n",
       "    </tr>\n",
       "    <tr>\n",
       "      <th>198</th>\n",
       "      <td>199</td>\n",
       "      <td>283.6</td>\n",
       "      <td>42.0</td>\n",
       "      <td>66.2</td>\n",
       "      <td>25.5</td>\n",
       "    </tr>\n",
       "    <tr>\n",
       "      <th>199</th>\n",
       "      <td>200</td>\n",
       "      <td>232.1</td>\n",
       "      <td>8.6</td>\n",
       "      <td>8.7</td>\n",
       "      <td>13.4</td>\n",
       "    </tr>\n",
       "  </tbody>\n",
       "</table>\n",
       "<p>200 rows × 5 columns</p>\n",
       "</div>"
      ],
      "text/plain": [
       "     Unnamed: 0     TV  Radio  Newspaper  Sales\n",
       "0             1  230.1   37.8       69.2   22.1\n",
       "1             2   44.5   39.3       45.1   10.4\n",
       "2             3   17.2   45.9       69.3    9.3\n",
       "3             4  151.5   41.3       58.5   18.5\n",
       "4             5  180.8   10.8       58.4   12.9\n",
       "..          ...    ...    ...        ...    ...\n",
       "195         196   38.2    3.7       13.8    7.6\n",
       "196         197   94.2    4.9        8.1    9.7\n",
       "197         198  177.0    9.3        6.4   12.8\n",
       "198         199  283.6   42.0       66.2   25.5\n",
       "199         200  232.1    8.6        8.7   13.4\n",
       "\n",
       "[200 rows x 5 columns]"
      ]
     },
     "execution_count": 2,
     "metadata": {},
     "output_type": "execute_result"
    }
   ],
   "source": [
    "df = pd.read_csv('sales.csv')\n",
    "df"
   ]
  },
  {
   "cell_type": "code",
   "execution_count": 3,
   "id": "a5cafb1b",
   "metadata": {},
   "outputs": [],
   "source": [
    "# prepare X (features) and y (target)\n",
    "feature_cols = ['TV', 'Newspaper', 'Radio']\n",
    "X = df[feature_cols]\n",
    "y = df['Sales']"
   ]
  },
  {
   "cell_type": "code",
   "execution_count": 4,
   "id": "220ea360",
   "metadata": {},
   "outputs": [],
   "source": [
    "scaler = StandardScaler()\n",
    "\n",
    "# do train_test_split (train:75, test:25)\n",
    "X_train, X_test, y_train, y_test = train_test_split(X, y, random_state=1)\n",
    "\n",
    "# do scaling for training convergence\n",
    "X_train, X_test = scaler.fit_transform(X_train), scaler.fit_transform(X_test)"
   ]
  },
  {
   "cell_type": "code",
   "execution_count": 5,
   "id": "23da03fa",
   "metadata": {},
   "outputs": [],
   "source": [
    "# determine whether system supports CUDA or not \n",
    "device = torch.device('cuda:0' if torch.cuda.is_available() else 'cpu')"
   ]
  },
  {
   "cell_type": "code",
   "execution_count": 6,
   "id": "e2ef8f0f",
   "metadata": {},
   "outputs": [],
   "source": [
    "# convert numpy arrays into pytorch tensors\n",
    "X_train = torch.tensor(X_train, dtype=torch.float32).to(device)\n",
    "X_test = torch.tensor(X_test, dtype=torch.float32).to(device)\n",
    "y_train = torch.tensor(y_train.values, dtype=torch.float32).to(device)\n",
    "y_test = torch.tensor(y_test.values, dtype=torch.float32).to(device)"
   ]
  },
  {
   "cell_type": "code",
   "execution_count": 7,
   "id": "fd6fde98",
   "metadata": {},
   "outputs": [],
   "source": [
    "cost = []\n",
    "\n",
    "class LinearRegression(torch.nn.Module):\n",
    "    \n",
    "    def __init__(self, num_features):\n",
    "        super(LinearRegression, self).__init__()       \n",
    "        self.num_features = num_features\n",
    "        self.linear = torch.nn.Linear(num_features, 1)\n",
    "        self.linear.weight.detach().normal_(0, .1)\n",
    "        self.linear.bias.detach().zero_()\n",
    "        \n",
    "    \n",
    "    def forward(self, x):\n",
    "        logits = self.linear(x)\n",
    "        yhat = logits.view(-1)\n",
    "        return yhat\n",
    "    \n",
    "\n",
    "    def train(self, x, y, num_epochs, learning_rate=0.1):\n",
    "        \n",
    "        # use gradient descent as the optimizer\n",
    "        optimizer = torch.optim.SGD(self.parameters(), lr=learning_rate)\n",
    "        \n",
    "        for e in range(num_epochs):\n",
    "            \n",
    "            # compute outputs ###\n",
    "            yhat = self.forward(x)\n",
    "            \n",
    "            # compute the loss\n",
    "            loss = F.mse_loss(yhat, y, reduction='mean')\n",
    "            \n",
    "            # reset gradients from the previous interaction\n",
    "            optimizer.zero_grad()\n",
    "            \n",
    "            # comp. gradients\n",
    "            loss.backward()          \n",
    "            \n",
    "            # update weights and bias\n",
    "            optimizer.step()\n",
    "\n",
    "            \n",
    "            ### Logging ####\n",
    "            with torch.no_grad():\n",
    "                yhat = self.forward(x)\n",
    "                curr_loss = F.mse_loss(yhat, y, reduction='mean')\n",
    "                print('Epoch: %03d' %(e+1), end='')\n",
    "                print(' | MSE: %.3f' %curr_loss)\n",
    "                cost.append(curr_loss) \n",
    "            \n",
    "    def predict(self, x):\n",
    "        predictions = self.forward(x)\n",
    "        return predictions"
   ]
  },
  {
   "cell_type": "code",
   "execution_count": 8,
   "id": "577e81d3",
   "metadata": {},
   "outputs": [
    {
     "name": "stdout",
     "output_type": "stream",
     "text": [
      "Epoch: 001 | MSE: 140.472\n",
      "Epoch: 002 | MSE: 90.601\n",
      "Epoch: 003 | MSE: 58.955\n",
      "Epoch: 004 | MSE: 38.825\n",
      "Epoch: 005 | MSE: 25.991\n",
      "Epoch: 006 | MSE: 17.794\n",
      "Epoch: 007 | MSE: 12.549\n",
      "Epoch: 008 | MSE: 9.187\n",
      "Epoch: 009 | MSE: 7.029\n",
      "Epoch: 010 | MSE: 5.641\n",
      "Epoch: 011 | MSE: 4.746\n",
      "Epoch: 012 | MSE: 4.168\n",
      "Epoch: 013 | MSE: 3.795\n",
      "Epoch: 014 | MSE: 3.552\n",
      "Epoch: 015 | MSE: 3.394\n",
      "Epoch: 016 | MSE: 3.291\n",
      "Epoch: 017 | MSE: 3.223\n",
      "Epoch: 018 | MSE: 3.179\n",
      "Epoch: 019 | MSE: 3.149\n",
      "Epoch: 020 | MSE: 3.130\n",
      "Epoch: 021 | MSE: 3.116\n",
      "Epoch: 022 | MSE: 3.107\n",
      "Epoch: 023 | MSE: 3.101\n",
      "Epoch: 024 | MSE: 3.097\n",
      "Epoch: 025 | MSE: 3.094\n",
      "Epoch: 026 | MSE: 3.092\n",
      "Epoch: 027 | MSE: 3.091\n",
      "Epoch: 028 | MSE: 3.090\n",
      "Epoch: 029 | MSE: 3.089\n",
      "Epoch: 030 | MSE: 3.088\n",
      "Epoch: 031 | MSE: 3.088\n",
      "Epoch: 032 | MSE: 3.088\n",
      "Epoch: 033 | MSE: 3.087\n",
      "Epoch: 034 | MSE: 3.087\n",
      "Epoch: 035 | MSE: 3.087\n",
      "Epoch: 036 | MSE: 3.087\n",
      "Epoch: 037 | MSE: 3.087\n",
      "Epoch: 038 | MSE: 3.087\n",
      "Epoch: 039 | MSE: 3.087\n",
      "Epoch: 040 | MSE: 3.087\n",
      "Epoch: 041 | MSE: 3.087\n",
      "Epoch: 042 | MSE: 3.087\n",
      "Epoch: 043 | MSE: 3.087\n",
      "Epoch: 044 | MSE: 3.087\n",
      "Epoch: 045 | MSE: 3.087\n",
      "Epoch: 046 | MSE: 3.087\n",
      "Epoch: 047 | MSE: 3.087\n",
      "Epoch: 048 | MSE: 3.087\n",
      "Epoch: 049 | MSE: 3.087\n",
      "Epoch: 050 | MSE: 3.087\n",
      "Epoch: 051 | MSE: 3.087\n",
      "Epoch: 052 | MSE: 3.087\n",
      "Epoch: 053 | MSE: 3.087\n",
      "Epoch: 054 | MSE: 3.087\n",
      "Epoch: 055 | MSE: 3.087\n",
      "Epoch: 056 | MSE: 3.087\n",
      "Epoch: 057 | MSE: 3.087\n",
      "Epoch: 058 | MSE: 3.087\n",
      "Epoch: 059 | MSE: 3.087\n",
      "Epoch: 060 | MSE: 3.087\n",
      "Epoch: 061 | MSE: 3.087\n",
      "Epoch: 062 | MSE: 3.087\n",
      "Epoch: 063 | MSE: 3.087\n",
      "Epoch: 064 | MSE: 3.087\n",
      "Epoch: 065 | MSE: 3.087\n",
      "Epoch: 066 | MSE: 3.087\n",
      "Epoch: 067 | MSE: 3.087\n",
      "Epoch: 068 | MSE: 3.087\n",
      "Epoch: 069 | MSE: 3.087\n",
      "Epoch: 070 | MSE: 3.087\n"
     ]
    }
   ],
   "source": [
    "# training\n",
    "linreg = LinearRegression(num_features=X_train.size(1))\n",
    "linreg.to(device)\n",
    "linreg.train(X_train, y_train, num_epochs=70)"
   ]
  },
  {
   "cell_type": "code",
   "execution_count": 9,
   "id": "ed856fd6",
   "metadata": {},
   "outputs": [
    {
     "data": {
      "image/png": "[encoded data removed]",
      "text/plain": [
       "<Figure size 432x288 with 1 Axes>"
      ]
     },
     "metadata": {
      "needs_background": "light"
     },
     "output_type": "display_data"
    }
   ],
   "source": [
    "# plot the MSE-loss after each epoch\n",
    "plt.plot(range(len(cost)), cost)\n",
    "plt.xlabel('Epoch')\n",
    "plt.ylabel('MSE')\n",
    "plt.show()"
   ]
  },
  {
   "cell_type": "code",
   "execution_count": 10,
   "id": "ee37a0f8",
   "metadata": {},
   "outputs": [
    {
     "name": "stdout",
     "output_type": "stream",
     "text": [
      "Coefficients: [('TV', tensor([4.0620, 0.0737, 2.7096]))]\n",
      "Intercept: tensor([13.8107])\n",
      "- MSE: 2.872\n"
     ]
    }
   ],
   "source": [
    "# examine the coefficients and intercept\n",
    "print(f'Coefficients: {list(zip(feature_cols, linreg.linear.weight.detach()))}')\n",
    "print(f'Intercept: {linreg.linear.bias.detach()}')\n",
    "print(f'- MSE: {F.mse_loss(y_test, linreg.predict(X_test).detach()):.3f}')"
   ]
  },
  {
   "cell_type": "markdown",
   "id": "122ec660",
   "metadata": {},
   "source": [
    "**Use scikit-learn**"
   ]
  },
  {
   "cell_type": "code",
   "execution_count": 11,
   "id": "96ab6faf",
   "metadata": {},
   "outputs": [
    {
     "name": "stdout",
     "output_type": "stream",
     "text": [
      "Coefficients: [('TV', 4.0620537), ('Newspaper', 0.073443495), ('Radio', 2.7098477)]\n",
      "Intercept: 13.8107\n",
      "- MSE: 2.872\n"
     ]
    }
   ],
   "source": [
    "from sklearn.linear_model import LinearRegression\n",
    "from sklearn.metrics import mean_squared_error\n",
    "\n",
    "linreg = LinearRegression()\n",
    "linreg.fit(X_train, y_train)\n",
    "y_pred = linreg.predict(X_test)\n",
    "\n",
    "print(f'Coefficients: {list(zip(feature_cols, linreg.coef_))}')\n",
    "print(f'Intercept: {linreg.intercept_:.4f}')\n",
    "print(f'- MSE: {mean_squared_error(y_test, y_pred):.3f}')"
   ]
  },
  {
   "cell_type": "markdown",
   "id": "b0f297c3",
   "metadata": {},
   "source": [
    "**Analytical solution**\n",
    "$$(X^T.X)^{-1}.X^T.y$$\n",
    "- Set: $$a = (X^T.X)^{-1}, b=a.X^T, w=b.y$$\n",
    "- After finding w, we can compute the bias by: \n",
    "$$bias = W.X - y$$"
   ]
  },
  {
   "cell_type": "code",
   "execution_count": 12,
   "id": "16595779",
   "metadata": {},
   "outputs": [
    {
     "name": "stdout",
     "output_type": "stream",
     "text": [
      "Coefficients: [('TV', 4.062052), ('Newspaper', 0.07344389), ('Radio', 2.7098463)]\n",
      "Intercept: 15.089\n"
     ]
    }
   ],
   "source": [
    "a = torch.inverse(torch.mm(X_train.T, X_train))\n",
    "b = torch.mm(a, X_train.T)\n",
    "\n",
    "w = torch.mm(b, y_train.view(-1, 1))\n",
    "bias = (y_train - torch.mm(X_train, w).view(-1))[0]\n",
    "\n",
    "print(f'Coefficients: {list(zip(feature_cols, w.view(-1).numpy()))}')\n",
    "print(f'Intercept: {bias:.3f}')"
   ]
  }
 ],
 "metadata": {
  "kernelspec": {
   "display_name": "Python 3 (ipykernel)",
   "language": "python",
   "name": "python3"
  },
  "language_info": {
   "codemirror_mode": {
    "name": "ipython",
    "version": 3
   },
   "file_extension": ".py",
   "mimetype": "text/x-python",
   "name": "python",
   "nbconvert_exporter": "python",
   "pygments_lexer": "ipython3",
   "version": "3.8.8"
  }
 },
 "nbformat": 4,
 "nbformat_minor": 5
}
